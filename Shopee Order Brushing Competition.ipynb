{
 "cells": [
  {
   "cell_type": "code",
   "execution_count": 1,
   "metadata": {},
   "outputs": [],
   "source": [
    "import numpy as np\n",
    "import pandas as pd\n",
    "from collections import defaultdict"
   ]
  },
  {
   "cell_type": "code",
   "execution_count": 2,
   "metadata": {},
   "outputs": [],
   "source": [
    "df = pd.read_csv('order_brush_order.csv')"
   ]
  },
  {
   "cell_type": "code",
   "execution_count": 3,
   "metadata": {},
   "outputs": [],
   "source": [
    "df['event_time'] =  pd.to_datetime(df['event_time'], infer_datetime_format=True)"
   ]
  },
  {
   "cell_type": "code",
   "execution_count": 4,
   "metadata": {},
   "outputs": [],
   "source": [
    "sorted_df = df.sort_values(by=['event_time'])"
   ]
  },
  {
   "cell_type": "code",
   "execution_count": 5,
   "metadata": {},
   "outputs": [],
   "source": [
    "plus1h = sorted_df['event_time'] +  pd.DateOffset(hours=1)\n",
    "sorted_df['plus1h'] = plus1h"
   ]
  },
  {
   "cell_type": "code",
   "execution_count": 6,
   "metadata": {},
   "outputs": [
    {
     "data": {
      "text/html": [
       "<div>\n",
       "<style scoped>\n",
       "    .dataframe tbody tr th:only-of-type {\n",
       "        vertical-align: middle;\n",
       "    }\n",
       "\n",
       "    .dataframe tbody tr th {\n",
       "        vertical-align: top;\n",
       "    }\n",
       "\n",
       "    .dataframe thead th {\n",
       "        text-align: right;\n",
       "    }\n",
       "</style>\n",
       "<table border=\"1\" class=\"dataframe\">\n",
       "  <thead>\n",
       "    <tr style=\"text-align: right;\">\n",
       "      <th></th>\n",
       "      <th>orderid</th>\n",
       "      <th>shopid</th>\n",
       "      <th>userid</th>\n",
       "      <th>event_time</th>\n",
       "      <th>plus1h</th>\n",
       "    </tr>\n",
       "  </thead>\n",
       "  <tbody>\n",
       "    <tr>\n",
       "      <th>150060</th>\n",
       "      <td>31075200506751</td>\n",
       "      <td>6042309</td>\n",
       "      <td>97707522</td>\n",
       "      <td>2019-12-27 00:00:00</td>\n",
       "      <td>2019-12-27 01:00:00</td>\n",
       "    </tr>\n",
       "    <tr>\n",
       "      <th>25985</th>\n",
       "      <td>31075200506752</td>\n",
       "      <td>104804492</td>\n",
       "      <td>97707522</td>\n",
       "      <td>2019-12-27 00:00:00</td>\n",
       "      <td>2019-12-27 01:00:00</td>\n",
       "    </tr>\n",
       "    <tr>\n",
       "      <th>81020</th>\n",
       "      <td>31075200506753</td>\n",
       "      <td>8715449</td>\n",
       "      <td>97707522</td>\n",
       "      <td>2019-12-27 00:00:00</td>\n",
       "      <td>2019-12-27 01:00:00</td>\n",
       "    </tr>\n",
       "    <tr>\n",
       "      <th>146598</th>\n",
       "      <td>31075201870570</td>\n",
       "      <td>190969466</td>\n",
       "      <td>170182475</td>\n",
       "      <td>2019-12-27 00:00:02</td>\n",
       "      <td>2019-12-27 01:00:02</td>\n",
       "    </tr>\n",
       "    <tr>\n",
       "      <th>80355</th>\n",
       "      <td>31075205798264</td>\n",
       "      <td>2859407</td>\n",
       "      <td>12532131</td>\n",
       "      <td>2019-12-27 00:00:05</td>\n",
       "      <td>2019-12-27 01:00:05</td>\n",
       "    </tr>\n",
       "  </tbody>\n",
       "</table>\n",
       "</div>"
      ],
      "text/plain": [
       "               orderid     shopid     userid          event_time  \\\n",
       "150060  31075200506751    6042309   97707522 2019-12-27 00:00:00   \n",
       "25985   31075200506752  104804492   97707522 2019-12-27 00:00:00   \n",
       "81020   31075200506753    8715449   97707522 2019-12-27 00:00:00   \n",
       "146598  31075201870570  190969466  170182475 2019-12-27 00:00:02   \n",
       "80355   31075205798264    2859407   12532131 2019-12-27 00:00:05   \n",
       "\n",
       "                    plus1h  \n",
       "150060 2019-12-27 01:00:00  \n",
       "25985  2019-12-27 01:00:00  \n",
       "81020  2019-12-27 01:00:00  \n",
       "146598 2019-12-27 01:00:02  \n",
       "80355  2019-12-27 01:00:05  "
      ]
     },
     "execution_count": 6,
     "metadata": {},
     "output_type": "execute_result"
    }
   ],
   "source": [
    "sorted_df.head()"
   ]
  },
  {
   "cell_type": "code",
   "execution_count": 7,
   "metadata": {},
   "outputs": [
    {
     "data": {
      "text/plain": [
       "222750"
      ]
     },
     "execution_count": 7,
     "metadata": {},
     "output_type": "execute_result"
    }
   ],
   "source": [
    "len(sorted_df)"
   ]
  },
  {
   "cell_type": "code",
   "execution_count": 8,
   "metadata": {},
   "outputs": [],
   "source": [
    "## %%timeit\n",
    "# for optimising, use .values to convert to numpy array, reshape is used so that we can concatenate \n",
    "event_time = np.unique(sorted_df['event_time'].values).reshape(-1,1)\n",
    "plus1h = np.unique(sorted_df['plus1h'].values).reshape(-1,1)\n",
    "great_sliding_window = np.concatenate((event_time,plus1h), axis = 1)"
   ]
  },
  {
   "cell_type": "code",
   "execution_count": 9,
   "metadata": {},
   "outputs": [
    {
     "data": {
      "text/plain": [
       "array([['2019-12-27T00:00:00.000000000', '2019-12-27T01:00:00.000000000'],\n",
       "       ['2019-12-27T00:00:02.000000000', '2019-12-27T01:00:02.000000000'],\n",
       "       ['2019-12-27T00:00:05.000000000', '2019-12-27T01:00:05.000000000'],\n",
       "       ...,\n",
       "       ['2019-12-31T23:59:47.000000000', '2020-01-01T00:59:47.000000000'],\n",
       "       ['2019-12-31T23:59:51.000000000', '2020-01-01T00:59:51.000000000'],\n",
       "       ['2019-12-31T23:59:56.000000000', '2020-01-01T00:59:56.000000000']],\n",
       "      dtype='datetime64[ns]')"
      ]
     },
     "execution_count": 9,
     "metadata": {},
     "output_type": "execute_result"
    }
   ],
   "source": [
    "# From here, we observed that there are timerange where there won't be any data at all. Redundant.\n",
    "great_sliding_window"
   ]
  },
  {
   "cell_type": "code",
   "execution_count": 10,
   "metadata": {},
   "outputs": [
    {
     "data": {
      "text/plain": [
       "121064"
      ]
     },
     "execution_count": 10,
     "metadata": {},
     "output_type": "execute_result"
    }
   ],
   "source": [
    "len(great_sliding_window)"
   ]
  },
  {
   "cell_type": "code",
   "execution_count": 11,
   "metadata": {},
   "outputs": [
    {
     "data": {
      "text/html": [
       "<div>\n",
       "<style scoped>\n",
       "    .dataframe tbody tr th:only-of-type {\n",
       "        vertical-align: middle;\n",
       "    }\n",
       "\n",
       "    .dataframe tbody tr th {\n",
       "        vertical-align: top;\n",
       "    }\n",
       "\n",
       "    .dataframe thead th {\n",
       "        text-align: right;\n",
       "    }\n",
       "</style>\n",
       "<table border=\"1\" class=\"dataframe\">\n",
       "  <thead>\n",
       "    <tr style=\"text-align: right;\">\n",
       "      <th></th>\n",
       "      <th>shopid</th>\n",
       "      <th>userid</th>\n",
       "      <th>event_time</th>\n",
       "    </tr>\n",
       "  </thead>\n",
       "  <tbody>\n",
       "    <tr>\n",
       "      <th>150060</th>\n",
       "      <td>6042309</td>\n",
       "      <td>97707522</td>\n",
       "      <td>2019-12-27 00:00:00</td>\n",
       "    </tr>\n",
       "    <tr>\n",
       "      <th>25985</th>\n",
       "      <td>104804492</td>\n",
       "      <td>97707522</td>\n",
       "      <td>2019-12-27 00:00:00</td>\n",
       "    </tr>\n",
       "    <tr>\n",
       "      <th>81020</th>\n",
       "      <td>8715449</td>\n",
       "      <td>97707522</td>\n",
       "      <td>2019-12-27 00:00:00</td>\n",
       "    </tr>\n",
       "    <tr>\n",
       "      <th>146598</th>\n",
       "      <td>190969466</td>\n",
       "      <td>170182475</td>\n",
       "      <td>2019-12-27 00:00:02</td>\n",
       "    </tr>\n",
       "    <tr>\n",
       "      <th>80355</th>\n",
       "      <td>2859407</td>\n",
       "      <td>12532131</td>\n",
       "      <td>2019-12-27 00:00:05</td>\n",
       "    </tr>\n",
       "  </tbody>\n",
       "</table>\n",
       "</div>"
      ],
      "text/plain": [
       "           shopid     userid          event_time\n",
       "150060    6042309   97707522 2019-12-27 00:00:00\n",
       "25985   104804492   97707522 2019-12-27 00:00:00\n",
       "81020     8715449   97707522 2019-12-27 00:00:00\n",
       "146598  190969466  170182475 2019-12-27 00:00:02\n",
       "80355     2859407   12532131 2019-12-27 00:00:05"
      ]
     },
     "execution_count": 11,
     "metadata": {},
     "output_type": "execute_result"
    }
   ],
   "source": [
    "# We now have the sliding window. We can remove orderid and plus1h from sorted.df as they are not needed\n",
    "sorted_df = sorted_df.drop(['orderid','plus1h'],axis=1)\n",
    "sorted_df.head()"
   ]
  },
  {
   "cell_type": "code",
   "execution_count": 12,
   "metadata": {
    "scrolled": true
   },
   "outputs": [],
   "source": [
    "# concentrate_rate = number of orders within 1 hr / number of unique buyers within 1 hr\n",
    "# >= 3 : order brushing \n",
    "\n",
    "# a DataFrame to record which shop-user do order-brushing\n",
    "order_brusher = pd.DataFrame()\n",
    "tracker = 0 \n",
    "\n",
    "for t1,t2 in great_sliding_window:\n",
    "    # for every step of sliding window, retrieve all the orders that fall within that time step\n",
    "    # Note: the size of temp within each time step will be different since there could be different number of orders \n",
    "    temp = sorted_df[(t1 <= sorted_df['event_time'].values) & (sorted_df['event_time'].values <= t2)]\n",
    "    \n",
    "    # filtering to reduce search space: for order brushing , need at least 3 orders made to the shop in that 1 hr time step\n",
    "    # Commented out since transform is a major bottleneck for large scale data\n",
    "    # temp = temp[temp.groupby('shopid')['shopid'].transform('size') >= 3]\n",
    "    \n",
    "    # no of orders to a shop in an hour\n",
    "    no_orders = temp.groupby('shopid')['userid'].count() \n",
    "    \n",
    "    # no of unique buyer to a shop in an hour\n",
    "    no_unique_buyers = temp.groupby('shopid')['userid'].nunique()\n",
    "    \n",
    "    # concentration_rate \n",
    "    concentration_rate = no_orders/no_unique_buyers\n",
    "    \n",
    "    # retrieving the shopid where concentration_rate >= 3\n",
    "    order_brushing_shopid = concentration_rate[concentration_rate>=3].index\n",
    "    \n",
    "    # need to find respective suspicious users in each shopid. There could be many users in cahoot with a single shop\n",
    "    suspects = temp[temp['shopid'].isin(order_brushing_shopid)]\n",
    "\n",
    "    # for each userid with respect to each shopid, we can see the count.\n",
    "    # Note that it is possible for one shopid to have multiple userids having the maximum count\n",
    "    suspects_counts = suspects.groupby(['shopid','userid'])['shopid'].count().reset_index(name='count')\n",
    "\n",
    "    # max count for each category. Required this because it is possible for one shopid to have multiple userids having the maximum count\n",
    "    max_counts = suspects_counts.groupby(['shopid'])['count'].agg('max').reset_index(name='count')\n",
    "    \n",
    "    # To retrieve a dataframe with all the top order_brushing_users \n",
    "    suspects_df = suspects_counts[suspects_counts['shopid'].isin(max_counts['shopid']) & suspects_counts['count'].isin(max_counts['count'])]\n",
    "    suspects_df = suspects_df[['shopid','userid']]\n",
    "    \n",
    "    # Appending and dropping duplicate at each time step\n",
    "    order_brusher = order_brusher.append(suspects_df)\n",
    "    order_brusher = order_brusher.drop_duplicates()\n",
    "    \n",
    "    tracker += 1\n",
    "    \n",
    "    # print(tracker, order_brusher)\n",
    "    "
   ]
  },
  {
   "cell_type": "code",
   "execution_count": 13,
   "metadata": {},
   "outputs": [
    {
     "data": {
      "text/html": [
       "<div>\n",
       "<style scoped>\n",
       "    .dataframe tbody tr th:only-of-type {\n",
       "        vertical-align: middle;\n",
       "    }\n",
       "\n",
       "    .dataframe tbody tr th {\n",
       "        vertical-align: top;\n",
       "    }\n",
       "\n",
       "    .dataframe thead th {\n",
       "        text-align: right;\n",
       "    }\n",
       "</style>\n",
       "<table border=\"1\" class=\"dataframe\">\n",
       "  <thead>\n",
       "    <tr style=\"text-align: right;\">\n",
       "      <th></th>\n",
       "      <th>shopid</th>\n",
       "      <th>userid</th>\n",
       "    </tr>\n",
       "  </thead>\n",
       "  <tbody>\n",
       "    <tr>\n",
       "      <th>0</th>\n",
       "      <td>141025402.0</td>\n",
       "      <td>613919.0</td>\n",
       "    </tr>\n",
       "    <tr>\n",
       "      <th>1</th>\n",
       "      <td>181009364.0</td>\n",
       "      <td>214208720.0</td>\n",
       "    </tr>\n",
       "    <tr>\n",
       "      <th>0</th>\n",
       "      <td>63888299.0</td>\n",
       "      <td>112649507.0</td>\n",
       "    </tr>\n",
       "    <tr>\n",
       "      <th>0</th>\n",
       "      <td>9374147.0</td>\n",
       "      <td>148176353.0</td>\n",
       "    </tr>\n",
       "    <tr>\n",
       "      <th>2</th>\n",
       "      <td>192608876.0</td>\n",
       "      <td>213646699.0</td>\n",
       "    </tr>\n",
       "    <tr>\n",
       "      <th>...</th>\n",
       "      <td>...</td>\n",
       "      <td>...</td>\n",
       "    </tr>\n",
       "    <tr>\n",
       "      <th>1</th>\n",
       "      <td>93295101.0</td>\n",
       "      <td>39834931.0</td>\n",
       "    </tr>\n",
       "    <tr>\n",
       "      <th>0</th>\n",
       "      <td>9153340.0</td>\n",
       "      <td>197569856.0</td>\n",
       "    </tr>\n",
       "    <tr>\n",
       "      <th>0</th>\n",
       "      <td>54257623.0</td>\n",
       "      <td>107414154.0</td>\n",
       "    </tr>\n",
       "    <tr>\n",
       "      <th>2</th>\n",
       "      <td>189544563.0</td>\n",
       "      <td>799445.0</td>\n",
       "    </tr>\n",
       "    <tr>\n",
       "      <th>0</th>\n",
       "      <td>96757644.0</td>\n",
       "      <td>215243653.0</td>\n",
       "    </tr>\n",
       "  </tbody>\n",
       "</table>\n",
       "<p>331 rows × 2 columns</p>\n",
       "</div>"
      ],
      "text/plain": [
       "         shopid       userid\n",
       "0   141025402.0     613919.0\n",
       "1   181009364.0  214208720.0\n",
       "0    63888299.0  112649507.0\n",
       "0     9374147.0  148176353.0\n",
       "2   192608876.0  213646699.0\n",
       "..          ...          ...\n",
       "1    93295101.0   39834931.0\n",
       "0     9153340.0  197569856.0\n",
       "0    54257623.0  107414154.0\n",
       "2   189544563.0     799445.0\n",
       "0    96757644.0  215243653.0\n",
       "\n",
       "[331 rows x 2 columns]"
      ]
     },
     "execution_count": 13,
     "metadata": {},
     "output_type": "execute_result"
    }
   ],
   "source": [
    "order_brusher"
   ]
  },
  {
   "cell_type": "code",
   "execution_count": 14,
   "metadata": {},
   "outputs": [],
   "source": [
    "# Need to convert float to int as per submission details\n",
    "order_brusher['shopid']= order_brusher['shopid'].astype(int)\n",
    "order_brusher['userid']= order_brusher['userid'].astype(int)"
   ]
  },
  {
   "cell_type": "code",
   "execution_count": 15,
   "metadata": {
    "scrolled": true
   },
   "outputs": [
    {
     "data": {
      "text/html": [
       "<div>\n",
       "<style scoped>\n",
       "    .dataframe tbody tr th:only-of-type {\n",
       "        vertical-align: middle;\n",
       "    }\n",
       "\n",
       "    .dataframe tbody tr th {\n",
       "        vertical-align: top;\n",
       "    }\n",
       "\n",
       "    .dataframe thead th {\n",
       "        text-align: right;\n",
       "    }\n",
       "</style>\n",
       "<table border=\"1\" class=\"dataframe\">\n",
       "  <thead>\n",
       "    <tr style=\"text-align: right;\">\n",
       "      <th></th>\n",
       "      <th>shopid</th>\n",
       "      <th>userid</th>\n",
       "    </tr>\n",
       "  </thead>\n",
       "  <tbody>\n",
       "    <tr>\n",
       "      <th>0</th>\n",
       "      <td>10159</td>\n",
       "      <td>214988798</td>\n",
       "    </tr>\n",
       "    <tr>\n",
       "      <th>0</th>\n",
       "      <td>10402</td>\n",
       "      <td>77819</td>\n",
       "    </tr>\n",
       "    <tr>\n",
       "      <th>0</th>\n",
       "      <td>10536</td>\n",
       "      <td>672345</td>\n",
       "    </tr>\n",
       "    <tr>\n",
       "      <th>0</th>\n",
       "      <td>42472</td>\n",
       "      <td>740844</td>\n",
       "    </tr>\n",
       "    <tr>\n",
       "      <th>0</th>\n",
       "      <td>42818</td>\n",
       "      <td>170385453</td>\n",
       "    </tr>\n",
       "    <tr>\n",
       "      <th>...</th>\n",
       "      <td>...</td>\n",
       "      <td>...</td>\n",
       "    </tr>\n",
       "    <tr>\n",
       "      <th>3</th>\n",
       "      <td>203531250</td>\n",
       "      <td>114282846</td>\n",
       "    </tr>\n",
       "    <tr>\n",
       "      <th>2</th>\n",
       "      <td>204225676</td>\n",
       "      <td>198662175</td>\n",
       "    </tr>\n",
       "    <tr>\n",
       "      <th>2</th>\n",
       "      <td>208696908</td>\n",
       "      <td>214111334</td>\n",
       "    </tr>\n",
       "    <tr>\n",
       "      <th>0</th>\n",
       "      <td>210197928</td>\n",
       "      <td>52867898</td>\n",
       "    </tr>\n",
       "    <tr>\n",
       "      <th>3</th>\n",
       "      <td>213141071</td>\n",
       "      <td>213646699</td>\n",
       "    </tr>\n",
       "  </tbody>\n",
       "</table>\n",
       "<p>331 rows × 2 columns</p>\n",
       "</div>"
      ],
      "text/plain": [
       "       shopid     userid\n",
       "0       10159  214988798\n",
       "0       10402      77819\n",
       "0       10536     672345\n",
       "0       42472     740844\n",
       "0       42818  170385453\n",
       "..        ...        ...\n",
       "3   203531250  114282846\n",
       "2   204225676  198662175\n",
       "2   208696908  214111334\n",
       "0   210197928   52867898\n",
       "3   213141071  213646699\n",
       "\n",
       "[331 rows x 2 columns]"
      ]
     },
     "execution_count": 15,
     "metadata": {},
     "output_type": "execute_result"
    }
   ],
   "source": [
    "# sorting is needed since all userid are to be separated by & with the smaller userid first\n",
    "order_brusher.sort_values(by=['shopid','userid'])\n",
    "order_brusher = order_brusher.sort_values(by=['shopid','userid'])\n",
    "order_brusher"
   ]
  },
  {
   "cell_type": "code",
   "execution_count": 16,
   "metadata": {},
   "outputs": [],
   "source": [
    "# serves as an intermediate checkpoint\n",
    "order_brusher.to_csv('order_brusher_preprocessed.csv', index=False)"
   ]
  },
  {
   "cell_type": "code",
   "execution_count": 17,
   "metadata": {},
   "outputs": [
    {
     "data": {
      "text/html": [
       "<div>\n",
       "<style scoped>\n",
       "    .dataframe tbody tr th:only-of-type {\n",
       "        vertical-align: middle;\n",
       "    }\n",
       "\n",
       "    .dataframe tbody tr th {\n",
       "        vertical-align: top;\n",
       "    }\n",
       "\n",
       "    .dataframe thead th {\n",
       "        text-align: right;\n",
       "    }\n",
       "</style>\n",
       "<table border=\"1\" class=\"dataframe\">\n",
       "  <thead>\n",
       "    <tr style=\"text-align: right;\">\n",
       "      <th></th>\n",
       "      <th>shopid</th>\n",
       "      <th>userid</th>\n",
       "    </tr>\n",
       "  </thead>\n",
       "  <tbody>\n",
       "    <tr>\n",
       "      <th>0</th>\n",
       "      <td>100446829</td>\n",
       "      <td>2434757</td>\n",
       "    </tr>\n",
       "    <tr>\n",
       "      <th>1</th>\n",
       "      <td>10159</td>\n",
       "      <td>214988798</td>\n",
       "    </tr>\n",
       "    <tr>\n",
       "      <th>2</th>\n",
       "      <td>10199219</td>\n",
       "      <td>8405753</td>\n",
       "    </tr>\n",
       "    <tr>\n",
       "      <th>3</th>\n",
       "      <td>10206302</td>\n",
       "      <td>95058664</td>\n",
       "    </tr>\n",
       "    <tr>\n",
       "      <th>4</th>\n",
       "      <td>103715156</td>\n",
       "      <td>214226569</td>\n",
       "    </tr>\n",
       "    <tr>\n",
       "      <th>...</th>\n",
       "      <td>...</td>\n",
       "      <td>...</td>\n",
       "    </tr>\n",
       "    <tr>\n",
       "      <th>310</th>\n",
       "      <td>98481320</td>\n",
       "      <td>124597967</td>\n",
       "    </tr>\n",
       "    <tr>\n",
       "      <th>311</th>\n",
       "      <td>98768262</td>\n",
       "      <td>150440717</td>\n",
       "    </tr>\n",
       "    <tr>\n",
       "      <th>312</th>\n",
       "      <td>98793086</td>\n",
       "      <td>142710562</td>\n",
       "    </tr>\n",
       "    <tr>\n",
       "      <th>313</th>\n",
       "      <td>99067259</td>\n",
       "      <td>108402614</td>\n",
       "    </tr>\n",
       "    <tr>\n",
       "      <th>314</th>\n",
       "      <td>99836251</td>\n",
       "      <td>197470611</td>\n",
       "    </tr>\n",
       "  </tbody>\n",
       "</table>\n",
       "<p>315 rows × 2 columns</p>\n",
       "</div>"
      ],
      "text/plain": [
       "        shopid     userid\n",
       "0    100446829    2434757\n",
       "1        10159  214988798\n",
       "2     10199219    8405753\n",
       "3     10206302   95058664\n",
       "4    103715156  214226569\n",
       "..         ...        ...\n",
       "310   98481320  124597967\n",
       "311   98768262  150440717\n",
       "312   98793086  142710562\n",
       "313   99067259  108402614\n",
       "314   99836251  197470611\n",
       "\n",
       "[315 rows x 2 columns]"
      ]
     },
     "execution_count": 17,
     "metadata": {},
     "output_type": "execute_result"
    }
   ],
   "source": [
    "order_brusher['shopid']= order_brusher['shopid'].astype(str)\n",
    "order_brusher['userid']= order_brusher['userid'].astype(str)\n",
    "order_brusher = order_brusher.groupby('shopid')['userid'].apply('&'.join).reset_index()\n",
    "order_brusher\n"
   ]
  },
  {
   "cell_type": "code",
   "execution_count": 18,
   "metadata": {},
   "outputs": [
    {
     "data": {
      "text/html": [
       "<div>\n",
       "<style scoped>\n",
       "    .dataframe tbody tr th:only-of-type {\n",
       "        vertical-align: middle;\n",
       "    }\n",
       "\n",
       "    .dataframe tbody tr th {\n",
       "        vertical-align: top;\n",
       "    }\n",
       "\n",
       "    .dataframe thead th {\n",
       "        text-align: right;\n",
       "    }\n",
       "</style>\n",
       "<table border=\"1\" class=\"dataframe\">\n",
       "  <thead>\n",
       "    <tr style=\"text-align: right;\">\n",
       "      <th></th>\n",
       "      <th>shopid</th>\n",
       "      <th>userid</th>\n",
       "    </tr>\n",
       "  </thead>\n",
       "  <tbody>\n",
       "    <tr>\n",
       "      <th>152</th>\n",
       "      <td>181009364</td>\n",
       "      <td>101832161&amp;214208720</td>\n",
       "    </tr>\n",
       "  </tbody>\n",
       "</table>\n",
       "</div>"
      ],
      "text/plain": [
       "        shopid               userid\n",
       "152  181009364  101832161&214208720"
      ]
     },
     "execution_count": 18,
     "metadata": {},
     "output_type": "execute_result"
    }
   ],
   "source": [
    "# For verification\n",
    "order_brusher[order_brusher['shopid']=='181009364']"
   ]
  },
  {
   "cell_type": "code",
   "execution_count": 19,
   "metadata": {},
   "outputs": [
    {
     "data": {
      "text/plain": [
       "0          6042309\n",
       "1        104804492\n",
       "2          8715449\n",
       "3        190969466\n",
       "4          2859407\n",
       "           ...    \n",
       "18765    173249173\n",
       "18766    212058195\n",
       "18767       577768\n",
       "18768    162561288\n",
       "18769    203090989\n",
       "Length: 18770, dtype: int64"
      ]
     },
     "execution_count": 19,
     "metadata": {},
     "output_type": "execute_result"
    }
   ],
   "source": [
    "# Retrieving every unique shops\n",
    "all_shops = pd.unique(sorted_df['shopid'])\n",
    "all_shops = pd.Series(all_shops)\n",
    "all_shops"
   ]
  },
  {
   "cell_type": "code",
   "execution_count": 20,
   "metadata": {},
   "outputs": [
    {
     "data": {
      "text/plain": [
       "0      100446829\n",
       "1          10159\n",
       "2       10199219\n",
       "3       10206302\n",
       "4      103715156\n",
       "         ...    \n",
       "310     98481320\n",
       "311     98768262\n",
       "312     98793086\n",
       "313     99067259\n",
       "314     99836251\n",
       "Name: shopid, Length: 315, dtype: int32"
      ]
     },
     "execution_count": 20,
     "metadata": {},
     "output_type": "execute_result"
    }
   ],
   "source": [
    "# Retrieving the order brushing shops\n",
    "order_brusher['shopid']= order_brusher['shopid'].astype(int)\n",
    "bad_shops = order_brusher['shopid']\n",
    "bad_shops"
   ]
  },
  {
   "cell_type": "code",
   "execution_count": 21,
   "metadata": {},
   "outputs": [
    {
     "data": {
      "text/plain": [
       "0        False\n",
       "1        False\n",
       "2         True\n",
       "3        False\n",
       "4        False\n",
       "         ...  \n",
       "18765    False\n",
       "18766    False\n",
       "18767    False\n",
       "18768    False\n",
       "18769    False\n",
       "Length: 18770, dtype: bool"
      ]
     },
     "execution_count": 21,
     "metadata": {},
     "output_type": "execute_result"
    }
   ],
   "source": [
    "all_shops.isin(bad_shops)"
   ]
  },
  {
   "cell_type": "code",
   "execution_count": 22,
   "metadata": {
    "scrolled": true
   },
   "outputs": [
    {
     "data": {
      "text/plain": [
       "0          6042309\n",
       "1        104804492\n",
       "3        190969466\n",
       "4          2859407\n",
       "5         94479614\n",
       "           ...    \n",
       "18765    173249173\n",
       "18766    212058195\n",
       "18767       577768\n",
       "18768    162561288\n",
       "18769    203090989\n",
       "Name: shopid, Length: 18455, dtype: int64"
      ]
     },
     "execution_count": 22,
     "metadata": {},
     "output_type": "execute_result"
    }
   ],
   "source": [
    "# Getting all the good shops and converting them to a Series\n",
    "good_shop_series = all_shops[~all_shops.isin(bad_shops)]\n",
    "good_shop_series = pd.Series(good_shop_series,name='shopid')\n",
    "good_shop_series"
   ]
  },
  {
   "cell_type": "code",
   "execution_count": 23,
   "metadata": {},
   "outputs": [],
   "source": [
    "good_shops = pd.DataFrame()"
   ]
  },
  {
   "cell_type": "code",
   "execution_count": 24,
   "metadata": {},
   "outputs": [
    {
     "data": {
      "text/html": [
       "<div>\n",
       "<style scoped>\n",
       "    .dataframe tbody tr th:only-of-type {\n",
       "        vertical-align: middle;\n",
       "    }\n",
       "\n",
       "    .dataframe tbody tr th {\n",
       "        vertical-align: top;\n",
       "    }\n",
       "\n",
       "    .dataframe thead th {\n",
       "        text-align: right;\n",
       "    }\n",
       "</style>\n",
       "<table border=\"1\" class=\"dataframe\">\n",
       "  <thead>\n",
       "    <tr style=\"text-align: right;\">\n",
       "      <th></th>\n",
       "      <th>shopid</th>\n",
       "      <th>userid</th>\n",
       "    </tr>\n",
       "  </thead>\n",
       "  <tbody>\n",
       "    <tr>\n",
       "      <th>0</th>\n",
       "      <td>6042309</td>\n",
       "      <td>0</td>\n",
       "    </tr>\n",
       "    <tr>\n",
       "      <th>1</th>\n",
       "      <td>104804492</td>\n",
       "      <td>0</td>\n",
       "    </tr>\n",
       "    <tr>\n",
       "      <th>3</th>\n",
       "      <td>190969466</td>\n",
       "      <td>0</td>\n",
       "    </tr>\n",
       "    <tr>\n",
       "      <th>4</th>\n",
       "      <td>2859407</td>\n",
       "      <td>0</td>\n",
       "    </tr>\n",
       "    <tr>\n",
       "      <th>5</th>\n",
       "      <td>94479614</td>\n",
       "      <td>0</td>\n",
       "    </tr>\n",
       "    <tr>\n",
       "      <th>...</th>\n",
       "      <td>...</td>\n",
       "      <td>...</td>\n",
       "    </tr>\n",
       "    <tr>\n",
       "      <th>18765</th>\n",
       "      <td>173249173</td>\n",
       "      <td>0</td>\n",
       "    </tr>\n",
       "    <tr>\n",
       "      <th>18766</th>\n",
       "      <td>212058195</td>\n",
       "      <td>0</td>\n",
       "    </tr>\n",
       "    <tr>\n",
       "      <th>18767</th>\n",
       "      <td>577768</td>\n",
       "      <td>0</td>\n",
       "    </tr>\n",
       "    <tr>\n",
       "      <th>18768</th>\n",
       "      <td>162561288</td>\n",
       "      <td>0</td>\n",
       "    </tr>\n",
       "    <tr>\n",
       "      <th>18769</th>\n",
       "      <td>203090989</td>\n",
       "      <td>0</td>\n",
       "    </tr>\n",
       "  </tbody>\n",
       "</table>\n",
       "<p>18455 rows × 2 columns</p>\n",
       "</div>"
      ],
      "text/plain": [
       "          shopid  userid\n",
       "0        6042309       0\n",
       "1      104804492       0\n",
       "3      190969466       0\n",
       "4        2859407       0\n",
       "5       94479614       0\n",
       "...          ...     ...\n",
       "18765  173249173       0\n",
       "18766  212058195       0\n",
       "18767     577768       0\n",
       "18768  162561288       0\n",
       "18769  203090989       0\n",
       "\n",
       "[18455 rows x 2 columns]"
      ]
     },
     "execution_count": 24,
     "metadata": {},
     "output_type": "execute_result"
    }
   ],
   "source": [
    "good_shops['shopid'] = good_shop_series\n",
    "good_shops['userid'] = 0\n",
    "good_shops"
   ]
  },
  {
   "cell_type": "code",
   "execution_count": 25,
   "metadata": {},
   "outputs": [
    {
     "data": {
      "text/html": [
       "<div>\n",
       "<style scoped>\n",
       "    .dataframe tbody tr th:only-of-type {\n",
       "        vertical-align: middle;\n",
       "    }\n",
       "\n",
       "    .dataframe tbody tr th {\n",
       "        vertical-align: top;\n",
       "    }\n",
       "\n",
       "    .dataframe thead th {\n",
       "        text-align: right;\n",
       "    }\n",
       "</style>\n",
       "<table border=\"1\" class=\"dataframe\">\n",
       "  <thead>\n",
       "    <tr style=\"text-align: right;\">\n",
       "      <th></th>\n",
       "      <th>shopid</th>\n",
       "      <th>userid</th>\n",
       "    </tr>\n",
       "  </thead>\n",
       "  <tbody>\n",
       "    <tr>\n",
       "      <th>0</th>\n",
       "      <td>100446829</td>\n",
       "      <td>2434757</td>\n",
       "    </tr>\n",
       "    <tr>\n",
       "      <th>1</th>\n",
       "      <td>10159</td>\n",
       "      <td>214988798</td>\n",
       "    </tr>\n",
       "    <tr>\n",
       "      <th>2</th>\n",
       "      <td>10199219</td>\n",
       "      <td>8405753</td>\n",
       "    </tr>\n",
       "    <tr>\n",
       "      <th>3</th>\n",
       "      <td>10206302</td>\n",
       "      <td>95058664</td>\n",
       "    </tr>\n",
       "    <tr>\n",
       "      <th>4</th>\n",
       "      <td>103715156</td>\n",
       "      <td>214226569</td>\n",
       "    </tr>\n",
       "    <tr>\n",
       "      <th>...</th>\n",
       "      <td>...</td>\n",
       "      <td>...</td>\n",
       "    </tr>\n",
       "    <tr>\n",
       "      <th>310</th>\n",
       "      <td>98481320</td>\n",
       "      <td>124597967</td>\n",
       "    </tr>\n",
       "    <tr>\n",
       "      <th>311</th>\n",
       "      <td>98768262</td>\n",
       "      <td>150440717</td>\n",
       "    </tr>\n",
       "    <tr>\n",
       "      <th>312</th>\n",
       "      <td>98793086</td>\n",
       "      <td>142710562</td>\n",
       "    </tr>\n",
       "    <tr>\n",
       "      <th>313</th>\n",
       "      <td>99067259</td>\n",
       "      <td>108402614</td>\n",
       "    </tr>\n",
       "    <tr>\n",
       "      <th>314</th>\n",
       "      <td>99836251</td>\n",
       "      <td>197470611</td>\n",
       "    </tr>\n",
       "  </tbody>\n",
       "</table>\n",
       "<p>315 rows × 2 columns</p>\n",
       "</div>"
      ],
      "text/plain": [
       "        shopid     userid\n",
       "0    100446829    2434757\n",
       "1        10159  214988798\n",
       "2     10199219    8405753\n",
       "3     10206302   95058664\n",
       "4    103715156  214226569\n",
       "..         ...        ...\n",
       "310   98481320  124597967\n",
       "311   98768262  150440717\n",
       "312   98793086  142710562\n",
       "313   99067259  108402614\n",
       "314   99836251  197470611\n",
       "\n",
       "[315 rows x 2 columns]"
      ]
     },
     "execution_count": 25,
     "metadata": {},
     "output_type": "execute_result"
    }
   ],
   "source": [
    "order_brusher"
   ]
  },
  {
   "cell_type": "code",
   "execution_count": 26,
   "metadata": {},
   "outputs": [
    {
     "data": {
      "text/html": [
       "<div>\n",
       "<style scoped>\n",
       "    .dataframe tbody tr th:only-of-type {\n",
       "        vertical-align: middle;\n",
       "    }\n",
       "\n",
       "    .dataframe tbody tr th {\n",
       "        vertical-align: top;\n",
       "    }\n",
       "\n",
       "    .dataframe thead th {\n",
       "        text-align: right;\n",
       "    }\n",
       "</style>\n",
       "<table border=\"1\" class=\"dataframe\">\n",
       "  <thead>\n",
       "    <tr style=\"text-align: right;\">\n",
       "      <th></th>\n",
       "      <th>shopid</th>\n",
       "      <th>userid</th>\n",
       "    </tr>\n",
       "  </thead>\n",
       "  <tbody>\n",
       "    <tr>\n",
       "      <th>0</th>\n",
       "      <td>100446829</td>\n",
       "      <td>2434757</td>\n",
       "    </tr>\n",
       "    <tr>\n",
       "      <th>1</th>\n",
       "      <td>10159</td>\n",
       "      <td>214988798</td>\n",
       "    </tr>\n",
       "    <tr>\n",
       "      <th>2</th>\n",
       "      <td>10199219</td>\n",
       "      <td>8405753</td>\n",
       "    </tr>\n",
       "    <tr>\n",
       "      <th>3</th>\n",
       "      <td>10206302</td>\n",
       "      <td>95058664</td>\n",
       "    </tr>\n",
       "    <tr>\n",
       "      <th>4</th>\n",
       "      <td>103715156</td>\n",
       "      <td>214226569</td>\n",
       "    </tr>\n",
       "    <tr>\n",
       "      <th>...</th>\n",
       "      <td>...</td>\n",
       "      <td>...</td>\n",
       "    </tr>\n",
       "    <tr>\n",
       "      <th>18765</th>\n",
       "      <td>173249173</td>\n",
       "      <td>0</td>\n",
       "    </tr>\n",
       "    <tr>\n",
       "      <th>18766</th>\n",
       "      <td>212058195</td>\n",
       "      <td>0</td>\n",
       "    </tr>\n",
       "    <tr>\n",
       "      <th>18767</th>\n",
       "      <td>577768</td>\n",
       "      <td>0</td>\n",
       "    </tr>\n",
       "    <tr>\n",
       "      <th>18768</th>\n",
       "      <td>162561288</td>\n",
       "      <td>0</td>\n",
       "    </tr>\n",
       "    <tr>\n",
       "      <th>18769</th>\n",
       "      <td>203090989</td>\n",
       "      <td>0</td>\n",
       "    </tr>\n",
       "  </tbody>\n",
       "</table>\n",
       "<p>18770 rows × 2 columns</p>\n",
       "</div>"
      ],
      "text/plain": [
       "          shopid     userid\n",
       "0      100446829    2434757\n",
       "1          10159  214988798\n",
       "2       10199219    8405753\n",
       "3       10206302   95058664\n",
       "4      103715156  214226569\n",
       "...          ...        ...\n",
       "18765  173249173          0\n",
       "18766  212058195          0\n",
       "18767     577768          0\n",
       "18768  162561288          0\n",
       "18769  203090989          0\n",
       "\n",
       "[18770 rows x 2 columns]"
      ]
     },
     "execution_count": 26,
     "metadata": {},
     "output_type": "execute_result"
    }
   ],
   "source": [
    "result = order_brusher.append(good_shops)\n",
    "result"
   ]
  },
  {
   "cell_type": "code",
   "execution_count": 27,
   "metadata": {},
   "outputs": [],
   "source": [
    "result.to_csv('result.csv', index=False)"
   ]
  }
 ],
 "metadata": {
  "kernelspec": {
   "display_name": "Python 3",
   "language": "python",
   "name": "python3"
  },
  "language_info": {
   "codemirror_mode": {
    "name": "ipython",
    "version": 3
   },
   "file_extension": ".py",
   "mimetype": "text/x-python",
   "name": "python",
   "nbconvert_exporter": "python",
   "pygments_lexer": "ipython3",
   "version": "3.7.6"
  }
 },
 "nbformat": 4,
 "nbformat_minor": 4
}
